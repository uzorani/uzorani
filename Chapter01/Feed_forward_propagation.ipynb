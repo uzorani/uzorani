{
  "nbformat": 4,
  "nbformat_minor": 0,
  "metadata": {
    "colab": {
      "name": "Feed_forward_propagation.ipynb",
      "provenance": [],
      "include_colab_link": true
    },
    "kernelspec": {
      "display_name": "Python 3",
      "language": "python",
      "name": "python3"
    },
    "language_info": {
      "codemirror_mode": {
        "name": "ipython",
        "version": 3
      },
      "file_extension": ".py",
      "mimetype": "text/x-python",
      "name": "python",
      "nbconvert_exporter": "python",
      "pygments_lexer": "ipython3",
      "version": "3.7.6"
    }
  },
  "cells": [
    {
      "cell_type": "markdown",
      "metadata": {
        "id": "view-in-github",
        "colab_type": "text"
      },
      "source": [
        "<a href=\"https://colab.research.google.com/github/uzorani/uzorani/blob/main/Chapter01/Feed_forward_propagation.ipynb\" target=\"_parent\"><img src=\"https://colab.research.google.com/assets/colab-badge.svg\" alt=\"Open In Colab\"/></a>"
      ]
    },
    {
      "cell_type": "markdown",
      "metadata": {
        "id": "Uk4Fezbb9SZc"
      },
      "source": [
        "### Forward Propagation"
      ]
    },
    {
      "cell_type": "code",
      "metadata": {
        "ExecuteTime": {
          "end_time": "2020-09-24T12:46:03.594770Z",
          "start_time": "2020-09-24T12:46:03.589643Z"
        },
        "id": "VytiqjTQgwf4"
      },
      "source": [
        "'''\n",
        "import numpy as np\n",
        "def feed_forward(inputs, outputs, weights):\n",
        "    pre_hidden = np.dot(inputs,weights[0])+ weights[1]\n",
        "    hidden = 1/(1+np.exp(-pre_hidden))\n",
        "    pred_out = np.dot(hidden, weights[2]) + weights[3]\n",
        "    mean_squared_error = np.mean(np.square(pred_out - outputs))\n",
        "    return mean_squared_error"
      ],
      "execution_count": null,
      "outputs": []
    },
    {
      "cell_type": "code",
      "source": [
        "# Take the input variable values, weights, and actual outputs\n",
        "import numpy as np\n",
        "def feed_forward(inputs, outputs, weights):\n",
        "# Calculate hidden layer values by performing the matrix multiplication (np.dot)\n",
        "# of inputs and weight values, connecting the input layer to the hidden layer,\n",
        "# and add the bias terms associated with the hidden layer's nodes\n",
        "    pre_hidden = np.dot(inputs, weights[0]) + weights[1]\n",
        "# Apply the Sigmoid activation function on top of the hidden layer values\n",
        "    hidden = 1 / (1 + np.ext(-pre_hidden))\n",
        "# Calculate the output layer values by performing the matrix multiplication\n",
        "# (np.dot) of hidden layer activation values (hidden) and weights connecting the\n",
        "# hidden layer to the output layer, and assuming the output with bias associated\n",
        "# with the node in the output layer\n",
        "    pred_out = np.dot(hidden, weights[2]) + weights[3]\n",
        "# Calculating the mean squared error value across the dataset, and return the\n",
        "# mean squared error\n",
        "    mean_squared_error = np.mean(np.square(pred_out - outputs))\n",
        "    return mean_squared_error"
      ],
      "metadata": {
        "id": "FrS_jw63qLP-"
      },
      "execution_count": 1,
      "outputs": []
    },
    {
      "cell_type": "markdown",
      "source": [],
      "metadata": {
        "id": "ahKMXZx-syKu"
      }
    }
  ]
}